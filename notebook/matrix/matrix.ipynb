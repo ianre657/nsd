{
 "cells": [
  {
   "cell_type": "code",
   "execution_count": 1,
   "metadata": {},
   "outputs": [
    {
     "name": "stdout",
     "output_type": "stream",
     "text": [
      "rm -rf *.o *.dSYM/ 01_pod_vector 02_pod_matrix_auto 03_pod_matrix_rowmajor 04_pod_matrix_colmajor 05_matrix_class 06_matrix_vector 07_matrix_matrix 08_gesv\r\n"
     ]
    }
   ],
   "source": [
    "!make clean"
   ]
  },
  {
   "cell_type": "markdown",
   "metadata": {},
   "source": [
    "# Matrix operations\n",
    "\n",
    "As linear algebra is fundamental in almost everything uses mathematics, matrices are everywhere in numerical analysis.  There isn't shortage of linear algebraic software packages and it's critically important to understand how they work.\n",
    "\n",
    "1. POD arrays and majoring\n",
    "2. Matrix-vector and matrix-matrix operations\n",
    "3. Linear algebra"
   ]
  },
  {
   "cell_type": "markdown",
   "metadata": {},
   "source": [
    "# POD arrays\n",
    "\n",
    "The plain-old-data (POD) arrays are also called C-style arrays.  They are given the names because they are nothing more than just data and support no mechanism fancier than arithmetic.  We DO, oftentimes, wrap POD with fancy C++ constructs, but all the heavy-lifting numerical calculations still need to be done with POD.  That's how von Neumann computers work.  (It clearly reveals itself in the machine code.)"
   ]
  },
  {
   "cell_type": "markdown",
   "metadata": {},
   "source": [
    "## Vector: 1D array\n",
    "\n",
    "A vector is stored as a (usually contiguous) memory buffer of sequetially ordered elements.\n",
    "\n",
    "```cpp\n",
    "constexpr size_t width = 5;\n",
    "\n",
    "double vector[width];\n",
    "\n",
    "// Populate a vector.\n",
    "for (size_t i=0; i<width; ++i)\n",
    "{\n",
    "    vector[i] = i;\n",
    "}\n",
    "\n",
    "std::cout << \"vector elements in memory:\" << std::endl << \" \";\n",
    "for (size_t i=0; i<width; ++i)\n",
    "{\n",
    "    std::cout << \" \" << vector[i];\n",
    "}\n",
    "std::cout << std::endl;\n",
    "```"
   ]
  },
  {
   "cell_type": "code",
   "execution_count": 2,
   "metadata": {},
   "outputs": [
    {
     "name": "stdout",
     "output_type": "stream",
     "text": [
      "g++  -std=c++17 -O3 -g -m64 -I/opt/intel/mkl/include /opt/intel/mkl/lib/libmkl_intel_lp64.a /opt/intel/mkl/lib/libmkl_sequential.a /opt/intel/mkl/lib/libmkl_core.a -lpthread -lm -ldl  -o 01_pod_vector 01_pod_vector.cpp\n",
      "vector elements in memory:\n",
      "  0 1 2 3 4\n"
     ]
    }
   ],
   "source": [
    "!make 01_pod_vector; ./01_pod_vector"
   ]
  },
  {
   "cell_type": "markdown",
   "metadata": {},
   "source": [
    "## BLAS\n",
    "\n",
    "BLAS (basic linear albegra subprograms; a standard set of array manipulation API) defines vector operations as the 1st level.  A partial list of them:\n",
    "\n",
    "* `SAXPY`: $\\mathbf{y} = a\\mathbf{x} + \\mathbf{y}$, constant times a vector plus a vector\n",
    "* `SDOT`: $\\mathbf{x}\\cdot\\mathbf{y}$, dot product of two vectors.\n",
    "* `SNRM2`: $\\sqrt{\\mathbf{y}\\cdot\\mathbf{y}}, $Euclidean norm.\n",
    "\n",
    "The operations are simple enough that we usually don't need to call the library."
   ]
  },
  {
   "cell_type": "markdown",
   "metadata": {},
   "source": [
    "## Matrix: 2D array\n",
    "\n",
    "See how to represent a $5\\times5$ square matrix:\n",
    "\n",
    "\\begin{align*}\n",
    "\\mathrm{A} = \\left[ a_{ij} \\right] = \\left(\\begin{array}{ccccc}\n",
    "a_{11} & a_{12} & a_{13} & a_{14} & a_{15} \\\\\n",
    "a_{21} & a_{22} & a_{23} & a_{24} & a_{25} \\\\\n",
    "a_{31} & a_{32} & a_{33} & a_{34} & a_{35} \\\\\n",
    "a_{41} & a_{42} & a_{43} & a_{44} & a_{45} \\\\\n",
    "a_{51} & a_{52} & a_{53} & a_{54} & a_{55}\n",
    "\\end{array}\\right)\n",
    "\\end{align*}\n",
    "\n",
    "$i$ is the row index (in the horizontal direction).  $j$ is the column index (in the vertical direction).  If we want to use the 0-based index, it can be rewritten as:\n",
    "\n",
    "\\begin{align*}\n",
    "\\mathrm{A} = \\left[ a_{ij} \\right] = \\left(\\begin{array}{ccccc}\n",
    "a_{00} & a_{01} & a_{02} & a_{03} & a_{04} \\\\\n",
    "a_{10} & a_{11} & a_{12} & a_{13} & a_{14} \\\\\n",
    "a_{20} & a_{21} & a_{22} & a_{23} & a_{24} \\\\\n",
    "a_{30} & a_{31} & a_{32} & a_{33} & a_{34} \\\\\n",
    "a_{40} & a_{41} & a_{42} & a_{43} & a_{44}\n",
    "\\end{array}\\right)\n",
    "\\end{align*}"
   ]
  },
  {
   "cell_type": "markdown",
   "metadata": {},
   "source": [
    "In C++ we can use an auto variable like below for the matrix:\n",
    "\n",
    "```cpp\n",
    "constexpr size_t width = 5;\n",
    "\n",
    "double amatrix[width][width];\n",
    "\n",
    "// Populate the matrix on stack (row-major 2D array).\n",
    "for (size_t i=0; i<width; ++i) // the i-th row\n",
    "{\n",
    "    for (size_t j=0; j<width; ++j) // the j-th column\n",
    "    {\n",
    "        amatrix[i][j] = i*10 + j;\n",
    "    }\n",
    "}\n",
    "\n",
    "std::cout << \"2D array elements:\";\n",
    "for (size_t i=0; i<width; ++i)\n",
    "{\n",
    "    std::cout << std::endl << \" \";\n",
    "    for (size_t j=0; j<width; ++j)\n",
    "    {\n",
    "        std::cout << \" \" << std::setfill('0') << std::setw(2)\n",
    "                  << amatrix[i][j];\n",
    "    }\n",
    "}\n",
    "std::cout << std::endl;\n",
    "```"
   ]
  },
  {
   "cell_type": "code",
   "execution_count": 3,
   "metadata": {},
   "outputs": [
    {
     "name": "stdout",
     "output_type": "stream",
     "text": [
      "g++  -std=c++17 -O3 -g -m64 -I/opt/intel/mkl/include /opt/intel/mkl/lib/libmkl_intel_lp64.a /opt/intel/mkl/lib/libmkl_sequential.a /opt/intel/mkl/lib/libmkl_core.a -lpthread -lm -ldl  -o 02_pod_matrix_auto 02_pod_matrix_auto.cpp\n",
      "2D array elements:\n",
      "  00 01 02 03 04\n",
      "  10 11 12 13 14\n",
      "  20 21 22 23 24\n",
      "  30 31 32 33 34\n",
      "  40 41 42 43 44\n"
     ]
    }
   ],
   "source": [
    "!make 02_pod_matrix_auto; ./02_pod_matrix_auto"
   ]
  },
  {
   "cell_type": "markdown",
   "metadata": {},
   "source": [
    "The C++ multi-dimensional array index is convenient, but it doesn't always work when the array size isn't known in the compile time.  `g++` accepts the following code, but `clang++` doesn't.\n",
    "\n",
    "```cpp\n",
    "void work(double * buffer, size_t width)\n",
    "{\n",
    "    // This won't work since width isn't known in compile time.\n",
    "    double (*matrix)[width] = reinterpret_cast<double (*)[width]>(buffer);\n",
    "    \n",
    "    //...\n",
    "```"
   ]
  },
  {
   "cell_type": "code",
   "execution_count": 4,
   "metadata": {},
   "outputs": [
    {
     "name": "stdout",
     "output_type": "stream",
     "text": [
      "g++  -std=c++17 -O3 -g -m64 -I/opt/intel/mkl/include /opt/intel/mkl/lib/libmkl_intel_lp64.a /opt/intel/mkl/lib/libmkl_sequential.a /opt/intel/mkl/lib/libmkl_core.a -lpthread -lm -ldl  -o pod_bad_matrix pod_bad_matrix.cpp\n",
      "\u001b[1mpod_bad_matrix.cpp:7:14: \u001b[0m\u001b[0;1;31merror: \u001b[0m\u001b[1mcannot initialize a variable of type\n",
      "      'double (*)[width]' with an rvalue of type 'double (*)[width]'\u001b[0m\n",
      "    double (*matrix)[width] = reinterpret_cast<double (*)[width]>(buffer);\n",
      "\u001b[0;1;32m             ^                ~~~~~~~~~~~~~~~~~~~~~~~~~~~~~~~~~~~~~~~~~~~\n",
      "\u001b[0m1 error generated.\n",
      "make: *** [pod_bad_matrix] Error 1\n"
     ]
    }
   ],
   "source": [
    "# g++ can build; clang++ errors out\n",
    "!make pod_bad_matrix"
   ]
  },
  {
   "cell_type": "markdown",
   "metadata": {},
   "source": [
    "## Row-major 2D variable-size array\n",
    "\n",
    "The elements of a row-major 2D array are stored so that the fastest changing index is the trailing index of the 2D array:\n",
    "\n",
    "\\begin{align*}\n",
    "\\mathrm{buffer} = [a_{00}, a_{01}, a_{02}, a_{03}, a_{04}, a_{10}, a_{11}, a_{12}, \\ldots, a_{43}, a_{44}]\n",
    "\\end{align*}\n",
    "\n",
    "When accessing the elements, all we need to do is to remember how long we need to *stride* per row (leading) index.\n",
    "\n",
    "```cpp\n",
    "constexpr size_t width = 5;\n",
    "\n",
    "double * buffer = new double[width*width];\n",
    "double (*matrix)[width] = reinterpret_cast<double (*)[width]>(buffer);\n",
    "std::cout << \"buffer address: \" << buffer << std::endl\n",
    "          << \"matrix address: \" << matrix << std::endl;\n",
    "\n",
    "// Populate a buffer (row-major 2D array).\n",
    "for (size_t i=0; i<width; ++i) // the i-th row\n",
    "{\n",
    "    for (size_t j=0; j<width; ++j) // the j-th column\n",
    "    {\n",
    "        buffer[i*width + j] = i*10 + j;\n",
    "    }\n",
    "}\n",
    "\n",
    "std::cout << \"matrix (row-major) elements as 2D array:\";\n",
    "for (size_t i=0; i<width; ++i)\n",
    "{\n",
    "    std::cout << std::endl << \" \";\n",
    "    for (size_t j=0; j<width; ++j)\n",
    "    {\n",
    "        std::cout << \" \" << std::setfill('0') << std::setw(2)\n",
    "                  << matrix[i][j];\n",
    "    }\n",
    "}\n",
    "std::cout << std::endl;\n",
    "```"
   ]
  },
  {
   "cell_type": "code",
   "execution_count": 5,
   "metadata": {},
   "outputs": [
    {
     "name": "stdout",
     "output_type": "stream",
     "text": [
      "g++  -std=c++17 -O3 -g -m64 -I/opt/intel/mkl/include /opt/intel/mkl/lib/libmkl_intel_lp64.a /opt/intel/mkl/lib/libmkl_sequential.a /opt/intel/mkl/lib/libmkl_core.a -lpthread -lm -ldl  -o 03_pod_matrix_rowmajor 03_pod_matrix_rowmajor.cpp\n",
      "buffer address: 0x7fb5fd600000\n",
      "matrix address: 0x7fb5fd600000\n",
      "matrix (row-major) elements as 2D array:\n",
      "  00 01 02 03 04\n",
      "  10 11 12 13 14\n",
      "  20 21 22 23 24\n",
      "  30 31 32 33 34\n",
      "  40 41 42 43 44\n",
      "matrix (row-major) elements in memory:\n",
      "  00 01 02 03 04 10 11 12 13 14 20 21 22 23 24 30 31 32 33 34 40 41 42 43 44\n",
      "row majoring: the fastest moving index is the trailing index\n"
     ]
    }
   ],
   "source": [
    "!make 03_pod_matrix_rowmajor; ./03_pod_matrix_rowmajor"
   ]
  },
  {
   "cell_type": "markdown",
   "metadata": {},
   "source": [
    "## Column-major 2D variable-size array\n",
    "\n",
    "The elements of a column-major 2D array are stored so that the fastest changing index is the leading index of the 2D array:\n",
    "\n",
    "\\begin{align*}\n",
    "\\mathrm{buffer} = [a_{00}, a_{10}, a_{20}, a_{30}, a_{40}, a_{01}, a_{11}, a_{21}, \\ldots, a_{34}, a_{44}]\n",
    "\\end{align*}\n",
    "\n",
    "Similar to a row-major array, we need to know the stride.  But this time it's for the column (trailing) index.\n",
    "\n",
    "```cpp\n",
    "constexpr size_t width = 5;\n",
    "\n",
    "double * buffer = new double[width*width];\n",
    "double (*matrix)[width] = reinterpret_cast<double (*)[width]>(buffer);\n",
    "std::cout << \"buffer address: \" << buffer << std::endl\n",
    "          << \"matrix address: \" << matrix << std::endl;\n",
    "\n",
    "// Populate a buffer (column-major 2D array).\n",
    "for (size_t i=0; i<width; ++i) // the i-th row\n",
    "{\n",
    "    for (size_t j=0; j<width; ++j) // the j-th column\n",
    "    {\n",
    "        buffer[j*width + i] = i*10 + j;\n",
    "    }\n",
    "}\n",
    "\n",
    "std::cout << \"matrix (column-major) elements as 2D array:\";\n",
    "for (size_t i=0; i<width; ++i)\n",
    "{\n",
    "    std::cout << std::endl << \" \";\n",
    "    for (size_t j=0; j<width; ++j)\n",
    "    {\n",
    "        std::cout << \" \" << std::setfill('0') << std::setw(2)\n",
    "                  << matrix[j][i];\n",
    "    }\n",
    "}\n",
    "std::cout << std::endl;\n",
    "```"
   ]
  },
  {
   "cell_type": "code",
   "execution_count": 6,
   "metadata": {},
   "outputs": [
    {
     "name": "stdout",
     "output_type": "stream",
     "text": [
      "g++  -std=c++17 -O3 -g -m64 -I/opt/intel/mkl/include /opt/intel/mkl/lib/libmkl_intel_lp64.a /opt/intel/mkl/lib/libmkl_sequential.a /opt/intel/mkl/lib/libmkl_core.a -lpthread -lm -ldl  -o 04_pod_matrix_colmajor 04_pod_matrix_colmajor.cpp\n",
      "buffer address: 0x7fbe2c402750\n",
      "matrix address: 0x7fbe2c402750\n",
      "matrix (column-major) elements as 2D array:\n",
      "  00 01 02 03 04\n",
      "  10 11 12 13 14\n",
      "  20 21 22 23 24\n",
      "  30 31 32 33 34\n",
      "  40 41 42 43 44\n",
      "matrix (column-major) elements in memory:\n",
      "  00 10 20 30 40 01 11 21 31 41 02 12 22 32 42 03 13 23 33 43 04 14 24 34 44\n",
      "column majoring: the fastest moving index is the leading index\n"
     ]
    }
   ],
   "source": [
    "!make 04_pod_matrix_colmajor; ./04_pod_matrix_colmajor"
   ]
  },
  {
   "cell_type": "markdown",
   "metadata": {},
   "source": [
    "## C++ class to treat the memory buffer like matrix\n",
    "\n",
    "Keeping track of the stride can be error-prone.  Even if we stick to one majoring order (usually it's row-majoring), it's easy to lose track of it when the number of row and column is different, or it's higher-dimensional.\n",
    "\n",
    "A common practice in C++ is to use a class to keep track of the stride.  Properly defined accessors significantly simplifies it.\n",
    "\n",
    "```cpp\n",
    "class Matrix {\n",
    "\n",
    "public:\n",
    "\n",
    "    Matrix(size_t nrow, size_t ncol)\n",
    "      : m_nrow(nrow), m_ncol(ncol)\n",
    "    {\n",
    "        size_t nelement = nrow * ncol;\n",
    "        m_buffer = new double[nelement];\n",
    "    }\n",
    "\n",
    "    // TODO: copy and move constructors and assignment operators.\n",
    "\n",
    "    ~Matrix()\n",
    "    {\n",
    "        delete[] m_buffer;\n",
    "    }\n",
    "\n",
    "    // No bound check.\n",
    "    double   operator() (size_t row, size_t col) const { return m_buffer[row*m_ncol + col]; }\n",
    "    double & operator() (size_t row, size_t col)       { return m_buffer[row*m_ncol + col]; }\n",
    "\n",
    "    size_t nrow() const { return m_nrow; }\n",
    "    size_t ncol() const { return m_ncol; }\n",
    "\n",
    "private:\n",
    "\n",
    "    size_t m_nrow;\n",
    "    size_t m_ncol;\n",
    "    double * m_buffer;\n",
    "\n",
    "};\n",
    "```"
   ]
  },
  {
   "cell_type": "code",
   "execution_count": 7,
   "metadata": {},
   "outputs": [
    {
     "name": "stdout",
     "output_type": "stream",
     "text": [
      "g++  -std=c++17 -O3 -g -m64 -I/opt/intel/mkl/include /opt/intel/mkl/lib/libmkl_intel_lp64.a /opt/intel/mkl/lib/libmkl_sequential.a /opt/intel/mkl/lib/libmkl_core.a -lpthread -lm -ldl  -o 05_matrix_class 05_matrix_class.cpp\n",
      "matrix:\n",
      "  00 01 02 03 04\n",
      "  10 11 12 13 14\n",
      "  20 21 22 23 24\n",
      "  30 31 32 33 34\n",
      "  40 41 42 43 44\n"
     ]
    }
   ],
   "source": [
    "!make 05_matrix_class; ./05_matrix_class"
   ]
  },
  {
   "cell_type": "markdown",
   "metadata": {},
   "source": [
    "# Matrix-vector multiplication"
   ]
  },
  {
   "cell_type": "markdown",
   "metadata": {},
   "source": [
    "BLAS level 2 includes matrix-vector operations.\n",
    "\n",
    "Operations of a matrix and a vector is much more interesting than vector operations.  What we really need to do is the matrix-vector multiplication\n",
    "\n",
    "\\begin{align*}\n",
    "\\mathbf{y} = \\mathrm{A}\\mathbf{x}\n",
    "\\end{align*}\n",
    "\n",
    "But because a matrix is a 2D array, we should first discuss traspose.  Write a $m\\times n$ ($m$ rows and $n$ columns) matrix $\\mathrm{A}$\n",
    "\n",
    "\\begin{align*}\n",
    "\\mathrm{A} = [a_{ij}] = \\left(\\begin{array}{cccc}\n",
    "a_{11} & a_{12} & \\cdots & a_{1n} \\\\\n",
    "a_{21} & a_{22} & \\cdots & a_{2n} \\\\\n",
    "a_{31} & a_{32} & \\cdots & a_{3n} \\\\\n",
    "\\vdots & & \\ddots & \\vdots \\\\\n",
    "a_{m1} & a_{m2} & \\cdots & a_{mn}\n",
    "\\end{array}\\right)_{m\\times n}\n",
    "\\end{align*}\n",
    "\n",
    "its transpose $\\mathrm{A}^t$ becomes a $n\\times m$ ($n$ rows and $m$ columns) matrix\n",
    "\n",
    "\\begin{align*}\n",
    "\\mathrm{A}^t = [a_{ji}] = \\left(\\begin{array}{ccccc}\n",
    "a_{11} & a_{21} & a_{31} & \\cdots & a_{m1} \\\\\n",
    "a_{12} & a_{22} & a_{32} & \\cdots & a_{m2} \\\\\n",
    "\\vdots & & & \\ddots & \\vdots \\\\\n",
    "a_{1n} & a_{2n} & a_{3n} & \\cdots & a_{mn}\n",
    "\\end{array}\\right)_{n\\times m}\n",
    "\\end{align*}"
   ]
  },
  {
   "cell_type": "markdown",
   "metadata": {},
   "source": [
    "Fast transpose can be done by taking advantage of majoring.  The key is the formula $\\mathrm{A}^t = [a_{ji}]$ for $\\mathrm{A} = [a_{ij}]$.  The code is like:\n",
    "\n",
    "```cpp\n",
    "double   operator() (size_t row, size_t col) const { return m_buffer[index(row, col)]; }\n",
    "double & operator() (size_t row, size_t col)       { return m_buffer[index(row, col)]; }\n",
    "\n",
    "bool is_transposed() const { return m_transpose; }\n",
    "\n",
    "Matrix & transpose()\n",
    "{\n",
    "    m_transpose = !m_transpose;\n",
    "    std::swap(m_nrow, m_ncol);\n",
    "    return *this;\n",
    "}\n",
    "```\n",
    "\n",
    "There is no data copied for transpose.  The price to pay is the if statement in the indexing helper.\n",
    "\n",
    "```cpp\n",
    "size_t index(size_t row, size_t col) const\n",
    "{\n",
    "    if (m_transpose) { return row          + col * m_nrow; }\n",
    "    else             { return row * m_ncol + col         ; }\n",
    "}\n",
    "```"
   ]
  },
  {
   "cell_type": "markdown",
   "metadata": {},
   "source": [
    "Come back to the matrix-vector multiplication, $\\mathbf{y} = \\mathrm{A}\\mathbf{x}$.  The calculation is easy by using the index form of the matrix and vector.\n",
    "\n",
    "\\begin{align*}\n",
    "y_i = \\sum_{j=1}^n A_{ij} x_j, \\quad i = 1, \\ldots, m\n",
    "\\end{align*}\n",
    "\n",
    "Sometimes, when Einstein's summation convention is applied, the summation sign may be suppressed, and the repeated indices imply summation\n",
    "\n",
    "\\begin{align*}\n",
    "y_i = A_{ij} x_j, \\quad i = 1, \\ldots, m, \\; j = 1, \\ldots, n\n",
    "\\end{align*}\n",
    "\n",
    "It can be shown that the index form of $\\mathbf{y}' = \\mathrm{A}^t\\mathbf{x}'$ is\n",
    "\n",
    "\\begin{align*}\n",
    "y'_i = A_{ji} x'_j, \\quad j = 1, \\ldots, m, \\; i = 1, \\ldots, n\n",
    "\\end{align*}"
   ]
  },
  {
   "cell_type": "markdown",
   "metadata": {},
   "source": [
    "Implement a naive matrix-vector multiplication:\n",
    "\n",
    "```cpp\n",
    "std::vector<double> operator*(Matrix const & mat, std::vector<double> const & vec)\n",
    "{\n",
    "    if (mat.ncol() != vec.size())\n",
    "    {\n",
    "        throw std::out_of_range(\"matrix column differs from vector size\");\n",
    "    }\n",
    "\n",
    "    std::vector<double> ret(mat.nrow());\n",
    "\n",
    "    for (size_t i=0; i<mat.nrow(); ++i)\n",
    "    {\n",
    "        double v = 0;\n",
    "        for (size_t j=0; j<mat.ncol(); ++j)\n",
    "        {\n",
    "            v += mat(i,j) * vec[j];\n",
    "        }\n",
    "        ret[i] = v;\n",
    "    }\n",
    "\n",
    "    return ret;\n",
    "}\n",
    "```"
   ]
  },
  {
   "cell_type": "code",
   "execution_count": 8,
   "metadata": {},
   "outputs": [
    {
     "name": "stdout",
     "output_type": "stream",
     "text": [
      "g++  -std=c++17 -O3 -g -m64 -I/opt/intel/mkl/include /opt/intel/mkl/lib/libmkl_intel_lp64.a /opt/intel/mkl/lib/libmkl_sequential.a /opt/intel/mkl/lib/libmkl_core.a -lpthread -lm -ldl  -o 06_matrix_vector 06_matrix_vector.cpp\n",
      ">>> square matrix-vector multiplication:\n",
      "matrix A:\n",
      "   1  0  0  0  0\n",
      "   0  1  0  0  0\n",
      "   0  0  1  0  0\n",
      "   0  0  0  1  0\n",
      "   0  0  0  0  1\n",
      "vector b: 1 0 0 0 0\n",
      "A*b = 1 0 0 0 0\n",
      ">>> m*n matrix-vector multiplication:\n",
      "matrix A:\n",
      "   1  2  3\n",
      "   4  5  6\n",
      "vector b: 1 2 3\n",
      "A*b = 14 32\n",
      ">>> transposed matrix-vector multiplication:\n",
      "matrix A:\n",
      "   1  4\n",
      "   2  5\n",
      "   3  6\n",
      "matrix A buffer: 1 2 3 4 5 6\n",
      "vector b: 1 2\n",
      "A*b = 9 12 15\n",
      ">>> copied transposed matrix-vector multiplication:\n",
      "matrix A:\n",
      "   1  4\n",
      "   2  5\n",
      "   3  6\n",
      "matrix A buffer: 1 4 2 5 3 6\n",
      "vector b: 1 2\n",
      "A*b = 9 12 15\n"
     ]
    }
   ],
   "source": [
    "!make 06_matrix_vector; ./06_matrix_vector"
   ]
  },
  {
   "cell_type": "markdown",
   "metadata": {},
   "source": [
    "The majoring may significantly affects the speed of matrix-vector multiplication."
   ]
  },
  {
   "cell_type": "markdown",
   "metadata": {},
   "source": [
    "# Matrix-matrix multiplication"
   ]
  },
  {
   "cell_type": "markdown",
   "metadata": {},
   "source": [
    "BLAS level 3 includes matrix-matrix operations.\n",
    "\n",
    "Matrix-matrix multiplication, $\\mathrm{C} = \\mathrm{A}\\mathrm{B}$ generally uses a $O(n^3)$ algorithm for $O(n^2)$ data.  The formula is\n",
    "\n",
    "\\begin{align*}\n",
    "C_{ik} = \\sum_{j=1}^n A_{ij}B_{jk}, \\quad i = 1, \\ldots, m, \\; k = 1, \\ldots, l\n",
    "\\end{align*}\n",
    "\n",
    "or, by using Einstein's summation convention,\n",
    "\n",
    "\\begin{align*}\n",
    "C_{ik} = A_{ij}B_{jk}, \\quad i = 1, \\ldots, m, \\; j = 1, \\ldots, n, \\; k = 1, \\ldots, l\n",
    "\\end{align*}"
   ]
  },
  {
   "cell_type": "markdown",
   "metadata": {},
   "source": [
    "A naive C++ implementation:\n",
    "\n",
    "```cpp\n",
    "Matrix operator*(Matrix const & mat1, Matrix const & mat2)\n",
    "{\n",
    "    if (mat1.ncol() != mat2.nrow())\n",
    "    {\n",
    "        throw std::out_of_range(\n",
    "            \"the number of first matrix column \"\n",
    "            \"differs from that of second matrix row\");\n",
    "    }\n",
    "\n",
    "    Matrix ret(mat1.nrow(), mat2.ncol());\n",
    "\n",
    "    for (size_t i=0; i<ret.nrow(); ++i)\n",
    "    {\n",
    "        for (size_t k=0; k<ret.ncol(); ++k)\n",
    "        {\n",
    "            double v = 0;\n",
    "            for (size_t j=0; j<mat1.ncol(); ++j)\n",
    "            {\n",
    "                v += mat1(i,j) * mat2(j,k);\n",
    "            }\n",
    "            ret(i,k) = v;\n",
    "        }\n",
    "    }\n",
    "\n",
    "    return ret;\n",
    "}\n",
    "```"
   ]
  },
  {
   "cell_type": "code",
   "execution_count": 9,
   "metadata": {},
   "outputs": [
    {
     "name": "stdout",
     "output_type": "stream",
     "text": [
      "g++  -std=c++17 -O3 -g -m64 -I/opt/intel/mkl/include /opt/intel/mkl/lib/libmkl_intel_lp64.a /opt/intel/mkl/lib/libmkl_sequential.a /opt/intel/mkl/lib/libmkl_core.a -lpthread -lm -ldl  -o 07_matrix_matrix 07_matrix_matrix.cpp\n",
      ">>> A(2x3) times B(3x2):\n",
      "matrix A (2x3):\n",
      "   1  2  3\n",
      "   4  5  6\n",
      "matrix B (3x2):\n",
      "   1  2\n",
      "   3  4\n",
      "   5  6\n",
      "result matrix C (2x2) = AB:\n",
      "  22 28\n",
      "  49 64\n",
      ">>> B(3x2) times A(2x3):\n",
      "matrix B (3x2):\n",
      "   1  2\n",
      "   3  4\n",
      "   5  6\n",
      "matrix A (2x3):\n",
      "   1  2  3\n",
      "   4  5  6\n",
      "result matrix D (3x3) = BA:\n",
      "   9 12 15\n",
      "  19 26 33\n",
      "  29 40 51\n"
     ]
    }
   ],
   "source": [
    "!make 07_matrix_matrix; ./07_matrix_matrix"
   ]
  },
  {
   "cell_type": "markdown",
   "metadata": {},
   "source": [
    "Matrix-matrix multiplication is intensive number-crunching.  The naive, brute-force, n-cube algorithm is basically what we need to do, without a way around.\n",
    "\n",
    "It also demands memory.  A matrix of $100,000\\times100,000$ takes $10,000,000,000$ (i.e., $10^{10}$) elements, and with double-precision floating points, it takes 80 GB.  To perform multiplication, you need the memory for 3 of the matrices, and that's 240 GB.  The dense matrix multiplication generally cannot use distributed memory without significantly loss of runtime speed.  The reasonable size of dense matrices for a workstation is around $10,000\\times10,000$, i.e., 800 MB per matrix.  It's very limiting, but already facilitates a good number of applications."
   ]
  },
  {
   "cell_type": "markdown",
   "metadata": {},
   "source": [
    "# Linear algebra"
   ]
  },
  {
   "cell_type": "markdown",
   "metadata": {},
   "source": [
    "After the matrix operations, it is time to introduce linear algebra in C++.  There are two critically important software packages: BLAS (http://www.netlib.org/blas/) and LAPACK (http://www.netlib.org/lapack/).  They were developed in FORTRAN.  Although the FORTRAN code is still being maintained today, it serves more like a reference implementation.  Multiple vendors provide optimized implementation, e.g., Intel's Math Kernel Library (MKL), Apple's vecLib, etc.\n",
    "\n",
    "BLAS stands for Basic Linear Algebra Subprograms, and LAPACK is Linear Algebra PACKage.  LAPACK is designed to rely on the underneath BLAS, so the two libraries are usually used together.  For example, the general matrix-vector multiplication is defined as the `?GEMV` function in BLAS level 2 (`?` can be one of `S`, `D`, `C`, and `Z`, for single-precision real, double-precision real, single-precision complex, and double-precision complex, respectively), and the general matrix-matrix multiplication is the `?GEMM` function in BLAS level 3.\n",
    "\n",
    "While BLAS offers basic operations like matrix multiplication, LAPACK provides more versatile computation helpers or solvers, e.g., a system of linear equations, least square, and eigen problems.\n",
    "\n",
    "Both BLAS and LAPACK provide C interface.  They don't native C++ interface, but the C interface is compatible to C++.  CBLAS is the C interface for BLAS, and LAPACKE is that for LAPACK."
   ]
  },
  {
   "cell_type": "markdown",
   "metadata": {},
   "source": [
    "## Linear system"
   ]
  },
  {
   "cell_type": "markdown",
   "metadata": {},
   "source": [
    "LAPACK provides `?GESV` functions to solve a linear system using a general (dense) matrix: $\\mathrm{A}\\mathbf{x} = \\mathbf{b}$.  Say we have a system of linear equations:\n",
    "\n",
    "\\begin{align*}\n",
    "3 x_1 + 5 x_2 + 2 x_3 &= 57 \\\\\n",
    "2 x_1 +   x_2 + 3 x_3 &= 22 \\\\\n",
    "4 x_1 + 3 x_2 + 2 x_3 &= 41\n",
    "\\end{align*}\n",
    "\n",
    "It can be rewritten as $\\mathrm{A}\\mathbf{x} = \\mathbf{b}$, where\n",
    "\n",
    "\\begin{align*}\n",
    "\\mathrm{A} = \\left(\\begin{array}{ccc}\n",
    "3 & 5 & 2 \\\\\n",
    "2 & 1 & 3 \\\\\n",
    "4 & 3 & 2\n",
    "\\end{array}\\right), \\quad\n",
    "\\mathbf{b} = \\left(\\begin{array}{c}\n",
    "57 \\\\ 22 \\\\ 41\n",
    "\\end{array}\\right), \\quad\n",
    "\\mathbf{x} = \\left(\\begin{array}{c}\n",
    "x_1 \\\\ x_2 \\\\ x_3\n",
    "\\end{array}\\right)\n",
    "\\end{align*}"
   ]
  },
  {
   "cell_type": "markdown",
   "metadata": {},
   "source": [
    "Note that the reference implementation of LAPACK is FORTRAN, which uses column major.  The dimensional arguments of the LAPACK subroutines changes meaning when we call them from C with row-major matrices.\n",
    "\n",
    "```cpp\n",
    "const size_t n = 3;\n",
    "int status;\n",
    "\n",
    "std::cout << \">>> Solve Ax=b (row major)\" << std::endl;\n",
    "Matrix mat(n, n, false);\n",
    "mat(0,0) = 3; mat(0,1) = 5; mat(0,2) = 2;\n",
    "mat(1,0) = 2; mat(1,1) = 1; mat(1,2) = 3;\n",
    "mat(2,0) = 4; mat(2,1) = 3; mat(2,2) = 2;\n",
    "Matrix b(n, 2, false);\n",
    "b(0,0) = 57; b(0,1) = 23;\n",
    "b(1,0) = 22; b(1,1) = 12;\n",
    "b(2,0) = 41; b(2,1) = 84;\n",
    "std::vector<int> ipiv(n);\n",
    "\n",
    "std::cout << \"A:\" << mat << std::endl;\n",
    "std::cout << \"b:\" << b << std::endl;\n",
    "\n",
    "status = LAPACKE_dgesv(\n",
    "    LAPACK_ROW_MAJOR // int matrix_layout\n",
    "  , n // lapack_int n\n",
    "  , b.ncol() // lapack_int nrhs\n",
    "  , mat.data() // double * a\n",
    "  , mat.ncol() // lapack_int lda\n",
    "  , ipiv.data() // lapack_int * ipiv\n",
    "  , b.data() // double * b\n",
    "  , b.ncol() // lapack_int ldb\n",
    "  // for row major matrix, ldb becomes the trailing dimension.\n",
    ");\n",
    "\n",
    "std::cout << \"solution x:\" << b << std::endl;\n",
    "std::cout << \"dgesv status: \" << status << std::endl;\n",
    "\n",
    "std::cout << \">>> Solve Ax=b (column major)\" << std::endl;\n",
    "Matrix mat2 = Matrix(n, n, true);\n",
    "mat2(0,0) = 3; mat2(0,1) = 5; mat2(0,2) = 2;\n",
    "mat2(1,0) = 2; mat2(1,1) = 1; mat2(1,2) = 3;\n",
    "mat2(2,0) = 4; mat2(2,1) = 3; mat2(2,2) = 2;\n",
    "Matrix b2(n, 2, true);\n",
    "b2(0,0) = 57; b2(0,1) = 23;\n",
    "b2(1,0) = 22; b2(1,1) = 12;\n",
    "b2(2,0) = 41; b2(2,1) = 84;\n",
    "\n",
    "std::cout << \"A:\" << mat2 << std::endl;\n",
    "std::cout << \"b:\" << b2 << std::endl;\n",
    "\n",
    "status = LAPACKE_dgesv(\n",
    "    LAPACK_COL_MAJOR // int matrix_layout\n",
    "  , n // lapack_int n\n",
    "  , b2.ncol() // lapack_int nrhs\n",
    "  , mat2.data() // double * a\n",
    "  , mat2.nrow() // lapack_int lda\n",
    "  , ipiv.data() // lapack_int * ipiv\n",
    "  , b2.data() // double * b\n",
    "  , b2.nrow() // lapack_int ldb\n",
    "  // for column major matrix, ldb remains the leading dimension.\n",
    ");\n",
    "\n",
    "std::cout << \"solution x:\" << b2 << std::endl;\n",
    "std::cout << \"dgesv status: \" << status << std::endl;\n",
    "```"
   ]
  },
  {
   "cell_type": "code",
   "execution_count": 10,
   "metadata": {},
   "outputs": [
    {
     "name": "stdout",
     "output_type": "stream",
     "text": [
      "g++  -std=c++17 -O3 -g -m64 -I/opt/intel/mkl/include /opt/intel/mkl/lib/libmkl_intel_lp64.a /opt/intel/mkl/lib/libmkl_sequential.a /opt/intel/mkl/lib/libmkl_core.a -lpthread -lm -ldl  -o 08_gesv 08_gesv.cpp\n",
      ">>> Solve Ax=b (row major)\n",
      "A:\n",
      "   3  5  2\n",
      "   2  1  3\n",
      "   4  3  2\n",
      " data:   3  5  2  2  1  3  4  3  2\n",
      "b:\n",
      "  57 23\n",
      "  22 12\n",
      "  41 84\n",
      " data:  57 23 22 12 41 84\n",
      "solution x:\n",
      "   2 38.3913\n",
      "   9 -11.3043\n",
      "   3 -17.8261\n",
      " data:   2 38.3913  9 -11.3043  3 -17.8261\n",
      "dgesv status: 0\n",
      ">>> Solve Ax=b (column major)\n",
      "A:\n",
      "   3  5  2\n",
      "   2  1  3\n",
      "   4  3  2\n",
      " data:   3  2  4  5  1  3  2  3  2\n",
      "b:\n",
      "  57 23\n",
      "  22 12\n",
      "  41 84\n",
      " data:  57 22 41 23 12 84\n",
      "solution x:\n",
      "   2 38.3913\n",
      "   9 -11.3043\n",
      "   3 -17.8261\n",
      " data:   2  9  3 38.3913 -11.3043 -17.8261\n",
      "dgesv status: 0\n"
     ]
    }
   ],
   "source": [
    "!make 08_gesv; ./08_gesv"
   ]
  },
  {
   "cell_type": "markdown",
   "metadata": {},
   "source": [
    "## Least square"
   ]
  },
  {
   "cell_type": "markdown",
   "metadata": {},
   "source": [
    "LAPACK provides `?GESL` and the associated functions to find the approximated solution of an over- or under-determined system, $\\min|\\mathrm{A}\\mathbf{x}-\\mathbf{b}|$, where $\\mathbf{x}$ is the unknown."
   ]
  },
  {
   "cell_type": "markdown",
   "metadata": {},
   "source": [
    "## Eigenvalue problems and SVD"
   ]
  },
  {
   "cell_type": "markdown",
   "metadata": {},
   "source": [
    "LAPACK provides `?GESVD` and the associated functions for the eigenvalue problems and singular value decomposition (SVD).  Let's take SVD for example.  The problem is to the singular value and the left and right singular vector matrix\n",
    "\n",
    "\\begin{align*}\n",
    "\\mathrm{A}_{m\\times n} = \\mathrm{U}_{m\\times m}\\mathrm{\\Sigma}_{m\\times n}\\mathrm{V}_{n\\times n}^t\n",
    "\\end{align*}\n",
    "\n",
    "where $\\mathrm{U}$ is the eigenvector matrix of $\\mathrm{A}\\mathrm{A}^t$, $\\mathrm{V}$ the eigenvector matrix of $\\mathrm{A}^t\\mathrm{A}$, and $\\mathrm{\\Sigma}$ the diagonal matrix of singular value.  Unlike an eigenvalue problem, the matrix $\\mathrm{A}$ may be rectangular instead of square."
   ]
  },
  {
   "cell_type": "markdown",
   "metadata": {},
   "source": [
    "# Exercises\n",
    "\n",
    "1. Extend the class `Matrix` to be an arbitrary dimensional array.\n",
    "2. Develop your own matrix-matrix multiplication code, measure the runtime, and\n",
    "compare with that of BLAS ``DGEMM`` subroutine.  The matrix size should be\n",
    "larger than or equal to :math:`1000\\times1000`."
   ]
  },
  {
   "cell_type": "markdown",
   "metadata": {},
   "source": [
    "# References\n",
    "\n",
    "* BLAS: http://www.netlib.org/blas/\n",
    "* LAPACK: http://www.netlib.org/lapack/"
   ]
  }
 ],
 "metadata": {
  "kernelspec": {
   "display_name": "Python 3",
   "language": "python",
   "name": "python3"
  },
  "language_info": {
   "codemirror_mode": {
    "name": "ipython",
    "version": 3
   },
   "file_extension": ".py",
   "mimetype": "text/x-python",
   "name": "python",
   "nbconvert_exporter": "python",
   "pygments_lexer": "ipython3",
   "version": "3.7.4+"
  }
 },
 "nbformat": 4,
 "nbformat_minor": 2
}

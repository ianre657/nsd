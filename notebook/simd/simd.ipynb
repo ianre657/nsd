{
 "cells": [
  {
   "cell_type": "code",
   "execution_count": 1,
   "metadata": {},
   "outputs": [
    {
     "name": "stdout",
     "output_type": "stream",
     "text": [
      "env: VECLIB_MAXIMUM_THREADS=1\n",
      "env: MKL_NUM_THREADS=1\n",
      "env: NUMEXPR_NUM_THREADS=1\n",
      "env: OMP_NUM_THREADS=1\n",
      "make -C 01_mul clean\n",
      "rm -rf *.o *.dSYM/ mul\n",
      "make -C 02_fma clean\n",
      "rm -rf *.o *.dSYM/ fma\n",
      "rm -rf *.o *.dSYM/ \n"
     ]
    }
   ],
   "source": [
    "%env VECLIB_MAXIMUM_THREADS=1\n",
    "%env MKL_NUM_THREADS=1\n",
    "%env NUMEXPR_NUM_THREADS=1\n",
    "%env OMP_NUM_THREADS=1\n",
    "\n",
    "!make clean\n",
    "\n",
    "import os, platform\n",
    "import numpy as np\n",
    "#np.show_config()"
   ]
  },
  {
   "cell_type": "markdown",
   "metadata": {},
   "source": [
    "# SIMD: vector processing\n",
    "\n",
    "1. Types of parallelism.\n",
    "2. x86 intrinsic funcions.\n",
    "3. Inspect assembly."
   ]
  },
  {
   "cell_type": "markdown",
   "metadata": {},
   "source": [
    "# Types of parallelism\n",
    "\n",
    "The popular computer architecture is based on sequential processing.  The most fundamental processing unit executes instructions one by one.\n",
    "\n",
    "If we assume the processor can only perform sequantial processing, we need to use multiple processors to perform parallel processing.  Differentiated by the memory access, the parallelism can be broadly set to two categories:\n",
    "\n",
    "* Shared-memory parallel processing\n",
    "* Distributed-memory parallel processing"
   ]
  },
  {
   "cell_type": "markdown",
   "metadata": {},
   "source": [
    "# Vector processing\n",
    "\n",
    "When the parallelism happens in the processor (one processing unit or core), it is usually done once for a single instruction with multiple data (SIMD).  It has also been called vector processing.  Vector processing is an illustrative name."
   ]
  },
  {
   "cell_type": "markdown",
   "metadata": {},
   "source": [
    "# Check CPU capabilities\n",
    "\n",
    "x86 provides a series of SIMD instructions, including\n",
    "\n",
    "* 64-bit: MMX\n",
    "* 128-bit: SSE, SSE2, SSE3, SSE4, SSE4.1, SSE4.2 (streaming simd extension)\n",
    "* 256-bit: AVX, AVX2 (advanced vector extension)\n",
    "* 512-bit: AVX-512\n",
    "\n",
    "Recent processors usually are equipped with AVX2, which was released with Haswell in 2013.  Before asking the compiler to use the specific instruction set, query the operating system for the cpu capabilities."
   ]
  },
  {
   "cell_type": "code",
   "execution_count": 2,
   "metadata": {},
   "outputs": [
    {
     "name": "stdout",
     "output_type": "stream",
     "text": [
      "Check on Darwin\n",
      "machdep.cpu.features: FPU VME DE PSE TSC MSR PAE MCE CX8 APIC SEP MTRR PGE MCA CMOV PAT PSE36 CLFSH DS ACPI MMX FXSR SSE SSE2 SS HTT TM PBE SSE3 PCLMULQDQ DTES64 MON DSCPL VMX EST TM2 SSSE3 FMA CX16 TPR PDCM SSE4.1 SSE4.2 x2APIC MOVBE POPCNT AES PCID XSAVE OSXSAVE SEGLIM64 TSCTMR AVX1.0 RDRAND F16C\n",
      "machdep.cpu.leaf7_features: RDWRFSGS TSC_THREAD_OFFSET SGX BMI1 AVX2 SMEP BMI2 ERMS INVPCID FPU_CSDS MPX RDSEED ADX SMAP CLFSOPT IPT MDCLEAR TSXFA IBRS STIBP L1DF SSBD\n",
      "machdep.cpu.extfeatures: SYSCALL XD 1GBPAGE EM64T LAHF LZCNT PREFETCHW RDTSCP TSCI\n"
     ]
    }
   ],
   "source": [
    "print(\"Check on\", platform.system())\n",
    "if 'Linux' == platform.system():\n",
    "    # check whether your cpu supports avx2 on linux\n",
    "    !grep flags /proc/cpuinfo\n",
    "elif 'Darwin' == platform.system():\n",
    "    # check whether your cpu supports avx2 on mac\n",
    "    !sysctl -a | grep machdep.cpu.*features"
   ]
  },
  {
   "cell_type": "markdown",
   "metadata": {},
   "source": [
    "# x86 intrinsic functions\n",
    "\n",
    "Major compilers provide header files for using the intrinsic functions that can be directly translated into the SIMD instructions:\n",
    "\n",
    "* `<mmintrin.h>`: MMX\n",
    "* `<xmmintrin.h>`: SSE\n",
    "* `<emmintrin.h>`: SSE2\n",
    "* `<pmmintrin.h>`: SSE3\n",
    "* `<tmmintrin.h>`: SSSE3\n",
    "* `<smmintrin.h>`: SSE4.1\n",
    "* `<nmmintrin.h>`: SSE4.2\n",
    "* `<ammintrin.h>`: SSE4A\n",
    "* `<immintrin.h>`: AVX\n",
    "* `<zmmintrin.h>`: AVX512\n",
    "\n",
    "You may also use `<x86intrin.h>` which includes everything."
   ]
  },
  {
   "cell_type": "markdown",
   "metadata": {},
   "source": [
    "The first example, `01_mul/mul.cpp`, shows how to use the 256-bit-wide AVX to perform vector multiplication for 8 single-precision floating-point values.\n",
    "\n",
    "```cpp\n",
    "constexpr const size_t width = 8;\n",
    "constexpr const size_t repeat = 1024 * 1024;\n",
    "constexpr const size_t nelem = width * repeat;\n",
    "```"
   ]
  },
  {
   "cell_type": "code",
   "execution_count": 3,
   "metadata": {},
   "outputs": [
    {
     "name": "stdout",
     "output_type": "stream",
     "text": [
      "width: 8\n",
      "nelem: 8388608\n",
      "\n",
      "arr: 0x0x107cf8000\n",
      "brr: 0x0x10a6af000\n",
      "rrr1: 0x0x10c6af000\n",
      "rrr2: 0x0x10e6af000\n",
      "\n",
      "Timing repeats for 100 times and takes the minimum\n",
      "\n",
      "1 multiplication by loop takes: 0.00465594 sec\n",
      "1 multiplication by simd takes: 0.0032652 sec\n",
      "\n",
      "3 multiplication by loop takes: 0.0108541 sec\n",
      "3 multiplication by simd takes: 0.00319073 sec\n",
      "\n",
      "5 multiplication by loop takes: 0.0210746 sec\n",
      "5 multiplication by simd takes: 0.00373831 sec\n",
      "\n"
     ]
    }
   ],
   "source": [
    "# time the difference between the loop and the simd/avx versions\n",
    "!g++ -std=c++17 -g -O3 -m64 -mavx 01_mul/mul.cpp -o 01_mul/mul ; 01_mul/mul"
   ]
  },
  {
   "cell_type": "markdown",
   "metadata": {},
   "source": [
    "## Inspect the assembly\n",
    "\n",
    "I use radare2 to inspect the assembly of the generated image."
   ]
  },
  {
   "cell_type": "code",
   "execution_count": 4,
   "metadata": {},
   "outputs": [
    {
     "name": "stdout",
     "output_type": "stream",
     "text": [
      "0x1000025e0   27 3402         entry0\n",
      "0x100001630    3 175          sym.multiply1_loop_float__float__float\n",
      "0x1000016e0    3 102          sym.multiply1_simd_float__float__float\n",
      "0x100001750    3 352          sym.multiply3_loop_float__float__float\n",
      "0x1000018b0    3 107          sym.multiply3_simd_float__float__float\n",
      "0x100001920    3 540          sym.multiply5_loop_float__float__float\n",
      "0x100001b40    3 87           sym.multiply5_simd_float__float__float\n",
      "0x100001ba0   80 1866 -> 1800 sym.run_std::__1::function_void_float__float__float____float__float__float\n",
      "0x100002340    5 645          sym.check_float__float\n",
      "0x1000034f0    6 249          sym.std::__1::basic_ostream_char_std::__1::char_traits_char___std::__1::__put_character_sequence_char_std::__1::char_traits_char___std::__1::basic_ostream_char_std::__1::char_traits_char____charconst__unsignedlong\n",
      "0x1000038c6    1 6            sym.std::__1::basic_ostream_char_std::__1::char_traits_char__::operator___unsignedlong\n",
      "0x1000038c0    1 6            sym.std::__1::basic_ostream_char_std::__1::char_traits_char__::operator___float\n",
      "0x100003890    1 6            sym.std::__1::ios_base::getloc__const\n",
      "0x10000388a    1 6            sym.std::__1::locale::use_facet_std::__1::locale::id__const\n",
      "0x1000038cc    1 6            sym.std::__1::locale::_locale\n",
      "0x10000389c    1 6            sym.std::__1::basic_ostream_char_std::__1::char_traits_char__::put_char\n",
      "0x1000038a2    1 6            sym.std::__1::basic_ostream_char_std::__1::char_traits_char__::flush\n",
      "0x100003bbc    2 11           sym.typeinfonameforvoid_float__float__float\n",
      "0x100003b88    3 22           sym.typeinfonameforstd::__1::__function::__base_void_float__float__float\n",
      "0x100003b48   15 196  -> 117  sym.typeinfonameforstd::__1::__function::__func_void____float__float__float___std::__1::allocator_void____float__float__float____void_float__float__float\n",
      "0x100003b2c    2 8            sym.typeinfonameforstd::__1::bad_function_call\n",
      "0x100003bb1    2 22           sym.typeinfonameforvoid____float__float__float\n",
      "0x100001600    1 33           sym._aligned_alloc\n",
      "0x100003938    1 6            sym.imp.posix_memalign\n",
      "0x1000033f0    1 16   -> 22   sym.___clang_call_terminate\n",
      "0x1000038fc    1 6            sym.imp.__cxa_begin_catch\n",
      "0x1000038e4    1 6            sym.std::terminate\n",
      "0x1000038f6    1 6            sym.imp.__cxa_allocate_exception\n",
      "0x10000390e    1 6            sym.imp.__cxa_throw\n",
      "0x1000038de    1 6            sym.std::exception::_exception\n",
      "0x100003450    1 28   -> 34   sym.std::__1::bad_function_call::_bad_function_call\n",
      "0x1000038ea    1 6            sym.operatordelete_void\n",
      "0x100003470    1 71           sym.std::__1::__throw_length_error_charconst\n",
      "0x1000034c0    1 42           sym.std::length_error::length_error_charconst\n",
      "0x100003896    1 6            sym.std::logic_error::logic_error_charconst\n",
      "0x100003908    1 6            sym.imp.__cxa_free_exception\n",
      "0x10000387e    1 6            sym.imp._Unwind_Resume\n",
      "0x100003650   18 326          sym.std::__1::ostreambuf_iterator_char_std::__1::char_traits_char__std::__1::__pad_and_output_char_std::__1::char_traits_char___std::__1::ostreambuf_iterator_char_std::__1::char_traits_char___charconst__charconst__charconst__std::__1::ios_base__char\n",
      "0x1000037c0    1 6            sym.std::__1::__function::__func_void____float__float__float___std::__1::allocator_void____float__float__float____void_float__float__float___::destroy\n",
      "0x1000037d0    1 10           sym.std::__1::__function::__func_void____float__float__float___std::__1::allocator_void____float__float__float____void_float__float__float___::___func\n",
      "0x1000037e0    1 48           sym.std::__1::__function::__func_void____float__float__float___std::__1::allocator_void____float__float__float____void_float__float__float___::__clone__const\n",
      "0x1000038f0    1 6            sym.operatornew_unsignedlong\n",
      "0x100003810    1 28           sym.std::__1::__function::__func_void____float__float__float___std::__1::allocator_void____float__float__float____void_float__float__float___::__clone_std::__1::__function::__base_void_float__float__float_____const\n",
      "0x100003830    1 23           sym.std::__1::__function::__func_void____float__float__float___std::__1::allocator_void____float__float__float____void_float__float__float___::operator___float____float____float\n",
      "0x100003850    1 27           sym.std::__1::__function::__func_void____float__float__float___std::__1::allocator_void____float__float__float____void_float__float__float___::target_std::type_infoconst__const\n",
      "0x100003870    1 13           sym.std::__1::__function::__func_void____float__float__float___std::__1::allocator_void____float__float__float____void_float__float__float___::target_type__const\n",
      "0x100003d40    1 92           sym.GCC_except_table16\n",
      "0x100003884    1 6            sym.std::__1::__vector_base_common_true_::__throw_length_error__const\n",
      "0x1000038a8    1 6            sym.std::__1::basic_ostream_char_std::__1::char_traits_char__::sentry::sentry_std::__1::basic_ostream_char_std::__1::char_traits_char\n",
      "0x1000038ae    1 6            sym.std::__1::basic_ostream_char_std::__1::char_traits_char__::sentry::_sentry\n",
      "0x1000038b4    1 6            sym.std::__1::basic_ostream_char_std::__1::char_traits_char__::operator___voidconst\n",
      "0x1000038ba    1 6            sym.std::__1::basic_ostream_char_std::__1::char_traits_char__::operator___double\n",
      "0x1000038d2    1 6            sym.std::__1::ios_base::__set_badbit_and_consider_rethrow\n",
      "0x1000038d8    1 6            sym.std::__1::ios_base::clear_unsignedint\n",
      "0x100003902    1 6            sym.imp.__cxa_end_catch\n",
      "0x100003914    1 6            sym.imp.__stack_chk_fail\n",
      "0x10000391a    1 6            sym.imp.free\n",
      "0x100003920    1 6            sym.imp.mach_absolute_time\n",
      "0x100003926    1 6            sym.imp.mach_timebase_info\n",
      "0x10000392c    1 6            sym.imp.memcpy\n",
      "0x100003932    1 6            sym.imp.memset\n",
      "0x100003400    1 74           sym.std::__1::__throw_bad_function_call\n"
     ]
    }
   ],
   "source": [
    "# take a look at the symbol table\n",
    "!r2 -Aqc \"e scr.color=0 ; afl\" 01_mul/mul"
   ]
  },
  {
   "cell_type": "markdown",
   "metadata": {},
   "source": [
    "### 1 multiplication"
   ]
  },
  {
   "cell_type": "markdown",
   "metadata": {},
   "source": [
    "To demonstrate the effect of different ratio of calculations to memory access, I use 3 sets of multiplication.  The first set uses 1 multiplication:\n",
    "\n",
    "```cpp\n",
    "void multiply1_loop(float* a, float* b, float* r)\n",
    "{\n",
    "    for (size_t i=0; i<repeat*width; i+=width)\n",
    "    {\n",
    "        for (size_t j=i; j<i+width; ++j)\n",
    "        {\n",
    "            r[j] = a[j] * b[j];\n",
    "        }\n",
    "    }\n",
    "}\n",
    "\n",
    "void multiply1_simd(float* a, float* b, float* r)\n",
    "{\n",
    "    for (size_t i=0; i<repeat; ++i)\n",
    "    {\n",
    "        __m256 * ma = (__m256 *) (&a[i*width]);\n",
    "        __m256 * mb = (__m256 *) (&b[i*width]);\n",
    "        __m256 * mr = (__m256 *) (&r[i*width]);\n",
    "        *mr = _mm256_mul_ps(*ma, *mb);\n",
    "    }\n",
    "}\n",
    "```"
   ]
  },
  {
   "cell_type": "code",
   "execution_count": 5,
   "metadata": {},
   "outputs": [
    {
     "name": "stdout",
     "output_type": "stream",
     "text": [
      "            ;-- func.100001630:\n",
      "/ (fcn) sym.multiply1_loop_float__float__float 175\n",
      "|   sym.multiply1_loop_float__float__float ();\n",
      "|           ; DATA XREF from entry0 (0x100002bb0)\n",
      "|           0x100001630      55             push rbp\n",
      "|           0x100001631      4889e5         mov rbp, rsp\n",
      "|           0x100001634      31c0           xor eax, eax\n",
      "|           0x100001636      662e0f1f8400.  nop word cs:[rax + rax]\n",
      "|           ; CODE XREF from sym.multiply1_loop_float__float__float (0x1000016d7)\n",
      "|       .-> 0x100001640      c5fa100487     vmovss xmm0, dword [rdi + rax*4]\n",
      "|       :   0x100001645      c5fa590486     vmulss xmm0, xmm0, dword [rsi + rax*4]\n",
      "|       :   0x10000164a      c5fa110482     vmovss dword [rdx + rax*4], xmm0\n",
      "|       :   0x10000164f      c5fa10448704   vmovss xmm0, dword [rdi + rax*4 + 4]\n",
      "|       :   0x100001655      c5fa59448604   vmulss xmm0, xmm0, dword [rsi + rax*4 + 4]\n",
      "|       :   0x10000165b      c5fa11448204   vmovss dword [rdx + rax*4 + 4], xmm0\n",
      "|       :   0x100001661      c5fa10448708   vmovss xmm0, dword [rdi + rax*4 + 8]\n",
      "|       :   0x100001667      c5fa59448608   vmulss xmm0, xmm0, dword [rsi + rax*4 + 8]\n",
      "|       :   0x10000166d      c5fa11448208   vmovss dword [rdx + rax*4 + 8], xmm0\n",
      "|       :   0x100001673      c5fa1044870c   vmovss xmm0, dword [rdi + rax*4 + 0xc]\n",
      "|       :   0x100001679      c5fa5944860c   vmulss xmm0, xmm0, dword [rsi + rax*4 + 0xc]\n",
      "|       :   0x10000167f      c5fa1144820c   vmovss dword [rdx + rax*4 + 0xc], xmm0\n",
      "|       :   0x100001685      c5fa10448710   vmovss xmm0, dword [rdi + rax*4 + 0x10]\n",
      "|       :   0x10000168b      c5fa59448610   vmulss xmm0, xmm0, dword [rsi + rax*4 + 0x10]\n",
      "|       :   0x100001691      c5fa11448210   vmovss dword [rdx + rax*4 + 0x10], xmm0\n",
      "|       :   0x100001697      c5fa10448714   vmovss xmm0, dword [rdi + rax*4 + 0x14]\n",
      "|       :   0x10000169d      c5fa59448614   vmulss xmm0, xmm0, dword [rsi + rax*4 + 0x14]\n",
      "|       :   0x1000016a3      c5fa11448214   vmovss dword [rdx + rax*4 + 0x14], xmm0\n",
      "|       :   0x1000016a9      c5fa10448718   vmovss xmm0, dword [rdi + rax*4 + 0x18]\n",
      "|       :   0x1000016af      c5fa59448618   vmulss xmm0, xmm0, dword [rsi + rax*4 + 0x18]\n",
      "|       :   0x1000016b5      c5fa11448218   vmovss dword [rdx + rax*4 + 0x18], xmm0\n",
      "|       :   0x1000016bb      c5fa1044871c   vmovss xmm0, dword [rdi + rax*4 + 0x1c]\n",
      "|       :   0x1000016c1      c5fa5944861c   vmulss xmm0, xmm0, dword [rsi + rax*4 + 0x1c]\n",
      "|       :   0x1000016c7      c5fa1144821c   vmovss dword [rdx + rax*4 + 0x1c], xmm0\n",
      "|       :   0x1000016cd      488d4008       lea rax, [rax + 8]         ; 8\n",
      "|       :   0x1000016d1      483d00008000   cmp rax, 0x800000\n",
      "|       `=< 0x1000016d7      0f8263ffffff   jb 0x100001640\n",
      "|           0x1000016dd      5d             pop rbp\n",
      "\\           0x1000016de      c3             ret\n"
     ]
    }
   ],
   "source": [
    "# 1 multiplication with loop\n",
    "!r2 -Aqc \"e scr.color=0 ; s sym.multiply1_loop_float__float__float ; pdf\" 01_mul/mul"
   ]
  },
  {
   "cell_type": "code",
   "execution_count": 6,
   "metadata": {},
   "outputs": [
    {
     "name": "stdout",
     "output_type": "stream",
     "text": [
      "            ;-- func.1000016e0:\n",
      "/ (fcn) sym.multiply1_simd_float__float__float 102\n",
      "|   sym.multiply1_simd_float__float__float ();\n",
      "|           ; DATA XREF from entry0 (0x100002ca3)\n",
      "|           0x1000016e0      55             push rbp\n",
      "|           0x1000016e1      4889e5         mov rbp, rsp\n",
      "|           0x1000016e4      31c0           xor eax, eax\n",
      "|           0x1000016e6      662e0f1f8400.  nop word cs:[rax + rax]\n",
      "|           ; CODE XREF from sym.multiply1_simd_float__float__float (0x10000173f)\n",
      "|       .-> 0x1000016f0      c5fc100407     vmovups ymm0, ymmword [rdi + rax]\n",
      "|       :   0x1000016f5      c5fc590406     vmulps ymm0, ymm0, ymmword [rsi + rax]\n",
      "|       :   0x1000016fa      c5fc110402     vmovups ymmword [rdx + rax], ymm0\n",
      "|       :   0x1000016ff      c5fc10440720   vmovups ymm0, ymmword [rdi + rax + 0x20]\n",
      "|       :   0x100001705      c5fc59440620   vmulps ymm0, ymm0, ymmword [rsi + rax + 0x20]\n",
      "|       :   0x10000170b      c5fc11440220   vmovups ymmword [rdx + rax + 0x20], ymm0\n",
      "|       :   0x100001711      c5fc10440740   vmovups ymm0, ymmword [rdi + rax + 0x40]\n",
      "|       :   0x100001717      c5fc59440640   vmulps ymm0, ymm0, ymmword [rsi + rax + 0x40]\n",
      "|       :   0x10000171d      c5fc11440240   vmovups ymmword [rdx + rax + 0x40], ymm0\n",
      "|       :   0x100001723      c5fc10440760   vmovups ymm0, ymmword [rdi + rax + 0x60]\n",
      "|       :   0x100001729      c5fc59440660   vmulps ymm0, ymm0, ymmword [rsi + rax + 0x60]\n",
      "|       :   0x10000172f      c5fc11440260   vmovups ymmword [rdx + rax + 0x60], ymm0\n",
      "|       :   0x100001735      4883e880       sub rax, 0xffffffffffffff80\n",
      "|       :   0x100001739      483d00000002   cmp rax, 0x2000000\n",
      "|       `=< 0x10000173f      75af           jne 0x1000016f0\n",
      "|           0x100001741      5d             pop rbp\n",
      "|           0x100001742      c5f877         vzeroupper\n",
      "\\           0x100001745      c3             ret\n"
     ]
    }
   ],
   "source": [
    "# 1 multiplication with simd/avx\n",
    "!r2 -Aqc \"e scr.color=0 ; s sym.multiply1_simd_float__float__float ; pdf\" 01_mul/mul"
   ]
  },
  {
   "cell_type": "markdown",
   "metadata": {},
   "source": [
    "### 3 multiplication"
   ]
  },
  {
   "cell_type": "markdown",
   "metadata": {},
   "source": [
    "The second set uses 3 multiplications:\n",
    "\n",
    "```cpp\n",
    "void multiply3_loop(float* a, float* b, float* r)\n",
    "{\n",
    "    for (size_t i=0; i<repeat*width; i+=width)\n",
    "    {\n",
    "        for (size_t j=i; j<i+width; ++j)\n",
    "        {\n",
    "            r[j] = a[j] * a[j];\n",
    "            r[j] *= b[j];\n",
    "            r[j] *= b[j];\n",
    "        }\n",
    "    }\n",
    "}\n",
    "\n",
    "void multiply3_simd(float* a, float* b, float* r)\n",
    "{\n",
    "    for (size_t i=0; i<repeat; ++i)\n",
    "    {\n",
    "        __m256 * ma = (__m256 *) (&a[i*width]);\n",
    "        __m256 * mb = (__m256 *) (&b[i*width]);\n",
    "        __m256 * mr = (__m256 *) (&r[i*width]);\n",
    "        *mr = _mm256_mul_ps(*ma, *ma);\n",
    "        *mr = _mm256_mul_ps(*mr, *mb);\n",
    "        *mr = _mm256_mul_ps(*mr, *mb);\n",
    "    }\n",
    "}\n",
    "```"
   ]
  },
  {
   "cell_type": "code",
   "execution_count": 7,
   "metadata": {},
   "outputs": [
    {
     "name": "stdout",
     "output_type": "stream",
     "text": [
      "            ;-- func.100001750:\n",
      "/ (fcn) sym.multiply3_loop_float__float__float 352\n",
      "|   sym.multiply3_loop_float__float__float ();\n",
      "|           ; DATA XREF from entry0 (0x100002e08)\n",
      "|           0x100001750      55             push rbp\n",
      "|           0x100001751      4889e5         mov rbp, rsp\n",
      "|           0x100001754      31c0           xor eax, eax\n",
      "|           0x100001756      662e0f1f8400.  nop word cs:[rax + rax]\n",
      "|           ; CODE XREF from sym.multiply3_loop_float__float__float (0x1000018a8)\n",
      "|       .-> 0x100001760      c5fa100487     vmovss xmm0, dword [rdi + rax*4]\n",
      "|       :   0x100001765      c5fa59c0       vmulss xmm0, xmm0, xmm0\n",
      "|       :   0x100001769      c5fa110482     vmovss dword [rdx + rax*4], xmm0\n",
      "|       :   0x10000176e      c5fa590486     vmulss xmm0, xmm0, dword [rsi + rax*4]\n",
      "|       :   0x100001773      c5fa110482     vmovss dword [rdx + rax*4], xmm0\n",
      "|       :   0x100001778      c5fa590486     vmulss xmm0, xmm0, dword [rsi + rax*4]\n",
      "|       :   0x10000177d      c5fa110482     vmovss dword [rdx + rax*4], xmm0\n",
      "|       :   0x100001782      c5fa10448704   vmovss xmm0, dword [rdi + rax*4 + 4]\n",
      "|       :   0x100001788      c5fa59c0       vmulss xmm0, xmm0, xmm0\n",
      "|       :   0x10000178c      c5fa11448204   vmovss dword [rdx + rax*4 + 4], xmm0\n",
      "|       :   0x100001792      c5fa59448604   vmulss xmm0, xmm0, dword [rsi + rax*4 + 4]\n",
      "|       :   0x100001798      c5fa11448204   vmovss dword [rdx + rax*4 + 4], xmm0\n",
      "|       :   0x10000179e      c5fa59448604   vmulss xmm0, xmm0, dword [rsi + rax*4 + 4]\n",
      "|       :   0x1000017a4      c5fa11448204   vmovss dword [rdx + rax*4 + 4], xmm0\n",
      "|       :   0x1000017aa      c5fa10448708   vmovss xmm0, dword [rdi + rax*4 + 8]\n",
      "|       :   0x1000017b0      c5fa59c0       vmulss xmm0, xmm0, xmm0\n",
      "|       :   0x1000017b4      c5fa11448208   vmovss dword [rdx + rax*4 + 8], xmm0\n",
      "|       :   0x1000017ba      c5fa59448608   vmulss xmm0, xmm0, dword [rsi + rax*4 + 8]\n",
      "|       :   0x1000017c0      c5fa11448208   vmovss dword [rdx + rax*4 + 8], xmm0\n",
      "|       :   0x1000017c6      c5fa59448608   vmulss xmm0, xmm0, dword [rsi + rax*4 + 8]\n",
      "|       :   0x1000017cc      c5fa11448208   vmovss dword [rdx + rax*4 + 8], xmm0\n",
      "|       :   0x1000017d2      c5fa1044870c   vmovss xmm0, dword [rdi + rax*4 + 0xc]\n",
      "|       :   0x1000017d8      c5fa59c0       vmulss xmm0, xmm0, xmm0\n",
      "|       :   0x1000017dc      c5fa1144820c   vmovss dword [rdx + rax*4 + 0xc], xmm0\n",
      "|       :   0x1000017e2      c5fa5944860c   vmulss xmm0, xmm0, dword [rsi + rax*4 + 0xc]\n",
      "|       :   0x1000017e8      c5fa1144820c   vmovss dword [rdx + rax*4 + 0xc], xmm0\n",
      "|       :   0x1000017ee      c5fa5944860c   vmulss xmm0, xmm0, dword [rsi + rax*4 + 0xc]\n",
      "|       :   0x1000017f4      c5fa1144820c   vmovss dword [rdx + rax*4 + 0xc], xmm0\n",
      "|       :   0x1000017fa      c5fa10448710   vmovss xmm0, dword [rdi + rax*4 + 0x10]\n",
      "|       :   0x100001800      c5fa59c0       vmulss xmm0, xmm0, xmm0\n",
      "|       :   0x100001804      c5fa11448210   vmovss dword [rdx + rax*4 + 0x10], xmm0\n",
      "|       :   0x10000180a      c5fa59448610   vmulss xmm0, xmm0, dword [rsi + rax*4 + 0x10]\n",
      "|       :   0x100001810      c5fa11448210   vmovss dword [rdx + rax*4 + 0x10], xmm0\n",
      "|       :   0x100001816      c5fa59448610   vmulss xmm0, xmm0, dword [rsi + rax*4 + 0x10]\n",
      "|       :   0x10000181c      c5fa11448210   vmovss dword [rdx + rax*4 + 0x10], xmm0\n",
      "|       :   0x100001822      c5fa10448714   vmovss xmm0, dword [rdi + rax*4 + 0x14]\n",
      "|       :   0x100001828      c5fa59c0       vmulss xmm0, xmm0, xmm0\n",
      "|       :   0x10000182c      c5fa11448214   vmovss dword [rdx + rax*4 + 0x14], xmm0\n",
      "|       :   0x100001832      c5fa59448614   vmulss xmm0, xmm0, dword [rsi + rax*4 + 0x14]\n",
      "|       :   0x100001838      c5fa11448214   vmovss dword [rdx + rax*4 + 0x14], xmm0\n",
      "|       :   0x10000183e      c5fa59448614   vmulss xmm0, xmm0, dword [rsi + rax*4 + 0x14]\n",
      "|       :   0x100001844      c5fa11448214   vmovss dword [rdx + rax*4 + 0x14], xmm0\n",
      "|       :   0x10000184a      c5fa10448718   vmovss xmm0, dword [rdi + rax*4 + 0x18]\n",
      "|       :   0x100001850      c5fa59c0       vmulss xmm0, xmm0, xmm0\n",
      "|       :   0x100001854      c5fa11448218   vmovss dword [rdx + rax*4 + 0x18], xmm0\n",
      "|       :   0x10000185a      c5fa59448618   vmulss xmm0, xmm0, dword [rsi + rax*4 + 0x18]\n",
      "|       :   0x100001860      c5fa11448218   vmovss dword [rdx + rax*4 + 0x18], xmm0\n",
      "|       :   0x100001866      c5fa59448618   vmulss xmm0, xmm0, dword [rsi + rax*4 + 0x18]\n",
      "|       :   0x10000186c      c5fa11448218   vmovss dword [rdx + rax*4 + 0x18], xmm0\n",
      "|       :   0x100001872      c5fa1044871c   vmovss xmm0, dword [rdi + rax*4 + 0x1c]\n",
      "|       :   0x100001878      c5fa59c0       vmulss xmm0, xmm0, xmm0\n",
      "|       :   0x10000187c      c5fa1144821c   vmovss dword [rdx + rax*4 + 0x1c], xmm0\n",
      "|       :   0x100001882      c5fa5944861c   vmulss xmm0, xmm0, dword [rsi + rax*4 + 0x1c]\n",
      "|       :   0x100001888      c5fa1144821c   vmovss dword [rdx + rax*4 + 0x1c], xmm0\n",
      "|       :   0x10000188e      c5fa5944861c   vmulss xmm0, xmm0, dword [rsi + rax*4 + 0x1c]\n",
      "|       :   0x100001894      c5fa1144821c   vmovss dword [rdx + rax*4 + 0x1c], xmm0\n",
      "|       :   0x10000189a      488d4808       lea rcx, [rax + 8]         ; 8\n",
      "|       :   0x10000189e      4889c8         mov rax, rcx\n",
      "|       :   0x1000018a1      4881f9000080.  cmp rcx, 0x800000\n",
      "|       `=< 0x1000018a8      0f82b2feffff   jb 0x100001760\n",
      "|           0x1000018ae      5d             pop rbp\n",
      "\\           0x1000018af      c3             ret\n"
     ]
    }
   ],
   "source": [
    "# 3 multiplication with loop\n",
    "!r2 -Aqc \"e scr.color=0 ; s sym.multiply3_loop_float__float__float ; pdf\" 01_mul/mul"
   ]
  },
  {
   "cell_type": "code",
   "execution_count": 8,
   "metadata": {},
   "outputs": [
    {
     "name": "stdout",
     "output_type": "stream",
     "text": [
      "            ;-- func.1000018b0:\n",
      "/ (fcn) sym.multiply3_simd_float__float__float 107\n",
      "|   sym.multiply3_simd_float__float__float ();\n",
      "|           ; DATA XREF from entry0 (0x100002f07)\n",
      "|           0x1000018b0      55             push rbp\n",
      "|           0x1000018b1      4889e5         mov rbp, rsp\n",
      "|           0x1000018b4      31c0           xor eax, eax\n",
      "|           0x1000018b6      662e0f1f8400.  nop word cs:[rax + rax]\n",
      "|           ; CODE XREF from sym.multiply3_simd_float__float__float (0x100001914)\n",
      "|       .-> 0x1000018c0      c5fc100407     vmovups ymm0, ymmword [rdi + rax]\n",
      "|       :   0x1000018c5      c5fc59c0       vmulps ymm0, ymm0, ymm0\n",
      "|       :   0x1000018c9      c5fc110402     vmovups ymmword [rdx + rax], ymm0\n",
      "|       :   0x1000018ce      c5fc590406     vmulps ymm0, ymm0, ymmword [rsi + rax]\n",
      "|       :   0x1000018d3      c5fc110402     vmovups ymmword [rdx + rax], ymm0\n",
      "|       :   0x1000018d8      c5fc590406     vmulps ymm0, ymm0, ymmword [rsi + rax]\n",
      "|       :   0x1000018dd      c5fc110402     vmovups ymmword [rdx + rax], ymm0\n",
      "|       :   0x1000018e2      c5fc10440720   vmovups ymm0, ymmword [rdi + rax + 0x20]\n",
      "|       :   0x1000018e8      c5fc59c0       vmulps ymm0, ymm0, ymm0\n",
      "|       :   0x1000018ec      c5fc11440220   vmovups ymmword [rdx + rax + 0x20], ymm0\n",
      "|       :   0x1000018f2      c5fc59440620   vmulps ymm0, ymm0, ymmword [rsi + rax + 0x20]\n",
      "|       :   0x1000018f8      c5fc11440220   vmovups ymmword [rdx + rax + 0x20], ymm0\n",
      "|       :   0x1000018fe      c5fc59440620   vmulps ymm0, ymm0, ymmword [rsi + rax + 0x20]\n",
      "|       :   0x100001904      c5fc11440220   vmovups ymmword [rdx + rax + 0x20], ymm0\n",
      "|       :   0x10000190a      4883c040       add rax, 0x40              ; '@'\n",
      "|       :   0x10000190e      483d00000002   cmp rax, 0x2000000\n",
      "|       `=< 0x100001914      75aa           jne 0x1000018c0\n",
      "|           0x100001916      5d             pop rbp\n",
      "|           0x100001917      c5f877         vzeroupper\n",
      "\\           0x10000191a      c3             ret\n"
     ]
    }
   ],
   "source": [
    "# 3 multiplication with simd/avx\n",
    "!r2 -Aqc \"e scr.color=0 ; s sym.multiply3_simd_float__float__float ; pdf\" 01_mul/mul"
   ]
  },
  {
   "cell_type": "markdown",
   "metadata": {},
   "source": [
    "### 5 multiplication"
   ]
  },
  {
   "cell_type": "markdown",
   "metadata": {},
   "source": [
    "The third (last) set uses 5 multiplications:\n",
    "\n",
    "```cpp\n",
    "void multiply5_loop(float* a, float* b, float* r)\n",
    "{\n",
    "    for (size_t i=0; i<repeat*width; i+=width)\n",
    "    {\n",
    "        for (size_t j=i; j<i+width; ++j)\n",
    "        {\n",
    "            r[j] = a[j] * a[j];\n",
    "            r[j] *= a[j];\n",
    "            r[j] *= b[j];\n",
    "            r[j] *= b[j];\n",
    "            r[j] *= b[j];\n",
    "        }\n",
    "    }\n",
    "}\n",
    "\n",
    "void multiply5_simd(float* a, float* b, float* r)\n",
    "{\n",
    "    for (size_t i=0; i<repeat; ++i)\n",
    "    {\n",
    "        __m256 * ma = (__m256 *) (&a[i*width]);\n",
    "        __m256 * mb = (__m256 *) (&b[i*width]);\n",
    "        __m256 * mr = (__m256 *) (&r[i*width]);\n",
    "        *mr = _mm256_mul_ps(*ma, *ma);\n",
    "        *mr = _mm256_mul_ps(*mr, *ma);\n",
    "        *mr = _mm256_mul_ps(*mr, *mb);\n",
    "        *mr = _mm256_mul_ps(*mr, *mb);\n",
    "        *mr = _mm256_mul_ps(*mr, *mb);\n",
    "    }\n",
    "}\n",
    "```"
   ]
  },
  {
   "cell_type": "code",
   "execution_count": 9,
   "metadata": {},
   "outputs": [
    {
     "name": "stdout",
     "output_type": "stream",
     "text": [
      "            ;-- func.100001920:\n",
      "/ (fcn) sym.multiply5_loop_float__float__float 540\n",
      "|   sym.multiply5_loop_float__float__float ();\n",
      "|           ; DATA XREF from entry0 (0x100003072)\n",
      "|           0x100001920      55             push rbp\n",
      "|           0x100001921      4889e5         mov rbp, rsp\n",
      "|           0x100001924      31c0           xor eax, eax\n",
      "|           0x100001926      662e0f1f8400.  nop word cs:[rax + rax]\n",
      "|           ; CODE XREF from sym.multiply5_loop_float__float__float (0x100001b34)\n",
      "|       .-> 0x100001930      c5fa100487     vmovss xmm0, dword [rdi + rax*4]\n",
      "|       :   0x100001935      c5fa59c0       vmulss xmm0, xmm0, xmm0\n",
      "|       :   0x100001939      c5fa110482     vmovss dword [rdx + rax*4], xmm0\n",
      "|       :   0x10000193e      c5fa590487     vmulss xmm0, xmm0, dword [rdi + rax*4]\n",
      "|       :   0x100001943      c5fa110482     vmovss dword [rdx + rax*4], xmm0\n",
      "|       :   0x100001948      c5fa590486     vmulss xmm0, xmm0, dword [rsi + rax*4]\n",
      "|       :   0x10000194d      c5fa110482     vmovss dword [rdx + rax*4], xmm0\n",
      "|       :   0x100001952      c5fa590486     vmulss xmm0, xmm0, dword [rsi + rax*4]\n",
      "|       :   0x100001957      c5fa110482     vmovss dword [rdx + rax*4], xmm0\n",
      "|       :   0x10000195c      c5fa590486     vmulss xmm0, xmm0, dword [rsi + rax*4]\n",
      "|       :   0x100001961      c5fa110482     vmovss dword [rdx + rax*4], xmm0\n",
      "|       :   0x100001966      c5fa10448704   vmovss xmm0, dword [rdi + rax*4 + 4]\n",
      "|       :   0x10000196c      c5fa59c0       vmulss xmm0, xmm0, xmm0\n",
      "|       :   0x100001970      c5fa11448204   vmovss dword [rdx + rax*4 + 4], xmm0\n",
      "|       :   0x100001976      c5fa59448704   vmulss xmm0, xmm0, dword [rdi + rax*4 + 4]\n",
      "|       :   0x10000197c      c5fa11448204   vmovss dword [rdx + rax*4 + 4], xmm0\n",
      "|       :   0x100001982      c5fa59448604   vmulss xmm0, xmm0, dword [rsi + rax*4 + 4]\n",
      "|       :   0x100001988      c5fa11448204   vmovss dword [rdx + rax*4 + 4], xmm0\n",
      "|       :   0x10000198e      c5fa59448604   vmulss xmm0, xmm0, dword [rsi + rax*4 + 4]\n",
      "|       :   0x100001994      c5fa11448204   vmovss dword [rdx + rax*4 + 4], xmm0\n",
      "|       :   0x10000199a      c5fa59448604   vmulss xmm0, xmm0, dword [rsi + rax*4 + 4]\n",
      "|       :   0x1000019a0      c5fa11448204   vmovss dword [rdx + rax*4 + 4], xmm0\n",
      "|       :   0x1000019a6      c5fa10448708   vmovss xmm0, dword [rdi + rax*4 + 8]\n",
      "|       :   0x1000019ac      c5fa59c0       vmulss xmm0, xmm0, xmm0\n",
      "|       :   0x1000019b0      c5fa11448208   vmovss dword [rdx + rax*4 + 8], xmm0\n",
      "|       :   0x1000019b6      c5fa59448708   vmulss xmm0, xmm0, dword [rdi + rax*4 + 8]\n",
      "|       :   0x1000019bc      c5fa11448208   vmovss dword [rdx + rax*4 + 8], xmm0\n",
      "|       :   0x1000019c2      c5fa59448608   vmulss xmm0, xmm0, dword [rsi + rax*4 + 8]\n",
      "|       :   0x1000019c8      c5fa11448208   vmovss dword [rdx + rax*4 + 8], xmm0\n",
      "|       :   0x1000019ce      c5fa59448608   vmulss xmm0, xmm0, dword [rsi + rax*4 + 8]\n",
      "|       :   0x1000019d4      c5fa11448208   vmovss dword [rdx + rax*4 + 8], xmm0\n",
      "|       :   0x1000019da      c5fa59448608   vmulss xmm0, xmm0, dword [rsi + rax*4 + 8]\n",
      "|       :   0x1000019e0      c5fa11448208   vmovss dword [rdx + rax*4 + 8], xmm0\n",
      "|       :   0x1000019e6      c5fa1044870c   vmovss xmm0, dword [rdi + rax*4 + 0xc]\n",
      "|       :   0x1000019ec      c5fa59c0       vmulss xmm0, xmm0, xmm0\n",
      "|       :   0x1000019f0      c5fa1144820c   vmovss dword [rdx + rax*4 + 0xc], xmm0\n",
      "|       :   0x1000019f6      c5fa5944870c   vmulss xmm0, xmm0, dword [rdi + rax*4 + 0xc]\n",
      "|       :   0x1000019fc      c5fa1144820c   vmovss dword [rdx + rax*4 + 0xc], xmm0\n",
      "|       :   0x100001a02      c5fa5944860c   vmulss xmm0, xmm0, dword [rsi + rax*4 + 0xc]\n",
      "|       :   0x100001a08      c5fa1144820c   vmovss dword [rdx + rax*4 + 0xc], xmm0\n",
      "|       :   0x100001a0e      c5fa5944860c   vmulss xmm0, xmm0, dword [rsi + rax*4 + 0xc]\n",
      "|       :   0x100001a14      c5fa1144820c   vmovss dword [rdx + rax*4 + 0xc], xmm0\n",
      "|       :   0x100001a1a      c5fa5944860c   vmulss xmm0, xmm0, dword [rsi + rax*4 + 0xc]\n",
      "|       :   0x100001a20      c5fa1144820c   vmovss dword [rdx + rax*4 + 0xc], xmm0\n",
      "|       :   0x100001a26      c5fa10448710   vmovss xmm0, dword [rdi + rax*4 + 0x10]\n",
      "|       :   0x100001a2c      c5fa59c0       vmulss xmm0, xmm0, xmm0\n",
      "|       :   0x100001a30      c5fa11448210   vmovss dword [rdx + rax*4 + 0x10], xmm0\n",
      "|       :   0x100001a36      c5fa59448710   vmulss xmm0, xmm0, dword [rdi + rax*4 + 0x10]\n",
      "|       :   0x100001a3c      c5fa11448210   vmovss dword [rdx + rax*4 + 0x10], xmm0\n",
      "|       :   0x100001a42      c5fa59448610   vmulss xmm0, xmm0, dword [rsi + rax*4 + 0x10]\n",
      "|       :   0x100001a48      c5fa11448210   vmovss dword [rdx + rax*4 + 0x10], xmm0\n",
      "|       :   0x100001a4e      c5fa59448610   vmulss xmm0, xmm0, dword [rsi + rax*4 + 0x10]\n",
      "|       :   0x100001a54      c5fa11448210   vmovss dword [rdx + rax*4 + 0x10], xmm0\n",
      "|       :   0x100001a5a      c5fa59448610   vmulss xmm0, xmm0, dword [rsi + rax*4 + 0x10]\n",
      "|       :   0x100001a60      c5fa11448210   vmovss dword [rdx + rax*4 + 0x10], xmm0\n",
      "|       :   0x100001a66      c5fa10448714   vmovss xmm0, dword [rdi + rax*4 + 0x14]\n",
      "|       :   0x100001a6c      c5fa59c0       vmulss xmm0, xmm0, xmm0\n",
      "|       :   0x100001a70      c5fa11448214   vmovss dword [rdx + rax*4 + 0x14], xmm0\n",
      "|       :   0x100001a76      c5fa59448714   vmulss xmm0, xmm0, dword [rdi + rax*4 + 0x14]\n",
      "|       :   0x100001a7c      c5fa11448214   vmovss dword [rdx + rax*4 + 0x14], xmm0\n",
      "|       :   0x100001a82      c5fa59448614   vmulss xmm0, xmm0, dword [rsi + rax*4 + 0x14]\n",
      "|       :   0x100001a88      c5fa11448214   vmovss dword [rdx + rax*4 + 0x14], xmm0\n",
      "|       :   0x100001a8e      c5fa59448614   vmulss xmm0, xmm0, dword [rsi + rax*4 + 0x14]\n",
      "|       :   0x100001a94      c5fa11448214   vmovss dword [rdx + rax*4 + 0x14], xmm0\n",
      "|       :   0x100001a9a      c5fa59448614   vmulss xmm0, xmm0, dword [rsi + rax*4 + 0x14]\n",
      "|       :   0x100001aa0      c5fa11448214   vmovss dword [rdx + rax*4 + 0x14], xmm0\n",
      "|       :   0x100001aa6      c5fa10448718   vmovss xmm0, dword [rdi + rax*4 + 0x18]\n",
      "|       :   0x100001aac      c5fa59c0       vmulss xmm0, xmm0, xmm0\n",
      "|       :   0x100001ab0      c5fa11448218   vmovss dword [rdx + rax*4 + 0x18], xmm0\n",
      "|       :   0x100001ab6      c5fa59448718   vmulss xmm0, xmm0, dword [rdi + rax*4 + 0x18]\n",
      "|       :   0x100001abc      c5fa11448218   vmovss dword [rdx + rax*4 + 0x18], xmm0\n",
      "|       :   0x100001ac2      c5fa59448618   vmulss xmm0, xmm0, dword [rsi + rax*4 + 0x18]\n",
      "|       :   0x100001ac8      c5fa11448218   vmovss dword [rdx + rax*4 + 0x18], xmm0\n",
      "|       :   0x100001ace      c5fa59448618   vmulss xmm0, xmm0, dword [rsi + rax*4 + 0x18]\n",
      "|       :   0x100001ad4      c5fa11448218   vmovss dword [rdx + rax*4 + 0x18], xmm0\n",
      "|       :   0x100001ada      c5fa59448618   vmulss xmm0, xmm0, dword [rsi + rax*4 + 0x18]\n",
      "|       :   0x100001ae0      c5fa11448218   vmovss dword [rdx + rax*4 + 0x18], xmm0\n",
      "|       :   0x100001ae6      c5fa1044871c   vmovss xmm0, dword [rdi + rax*4 + 0x1c]\n",
      "|       :   0x100001aec      c5fa59c0       vmulss xmm0, xmm0, xmm0\n",
      "|       :   0x100001af0      c5fa1144821c   vmovss dword [rdx + rax*4 + 0x1c], xmm0\n",
      "|       :   0x100001af6      c5fa5944871c   vmulss xmm0, xmm0, dword [rdi + rax*4 + 0x1c]\n",
      "|       :   0x100001afc      c5fa1144821c   vmovss dword [rdx + rax*4 + 0x1c], xmm0\n",
      "|       :   0x100001b02      c5fa5944861c   vmulss xmm0, xmm0, dword [rsi + rax*4 + 0x1c]\n",
      "|       :   0x100001b08      c5fa1144821c   vmovss dword [rdx + rax*4 + 0x1c], xmm0\n",
      "|       :   0x100001b0e      c5fa5944861c   vmulss xmm0, xmm0, dword [rsi + rax*4 + 0x1c]\n",
      "|       :   0x100001b14      c5fa1144821c   vmovss dword [rdx + rax*4 + 0x1c], xmm0\n",
      "|       :   0x100001b1a      c5fa5944861c   vmulss xmm0, xmm0, dword [rsi + rax*4 + 0x1c]\n",
      "|       :   0x100001b20      c5fa1144821c   vmovss dword [rdx + rax*4 + 0x1c], xmm0\n",
      "|       :   0x100001b26      488d4808       lea rcx, [rax + 8]         ; 8\n",
      "|       :   0x100001b2a      4889c8         mov rax, rcx\n",
      "|       :   0x100001b2d      4881f9000080.  cmp rcx, 0x800000\n",
      "|       `=< 0x100001b34      0f82f6fdffff   jb 0x100001930\n",
      "|           0x100001b3a      5d             pop rbp\n",
      "\\           0x100001b3b      c3             ret\n"
     ]
    }
   ],
   "source": [
    "# 5 multiplication with loop\n",
    "!r2 -Aqc \"e scr.color=0 ; s sym.multiply5_loop_float__float__float ; pdf\" 01_mul/mul"
   ]
  },
  {
   "cell_type": "code",
   "execution_count": 10,
   "metadata": {},
   "outputs": [
    {
     "name": "stdout",
     "output_type": "stream",
     "text": [
      "            ;-- func.100001b40:\n",
      "/ (fcn) sym.multiply5_simd_float__float__float 87\n",
      "|   sym.multiply5_simd_float__float__float ();\n",
      "|           ; DATA XREF from entry0 (0x100003171)\n",
      "|           0x100001b40      55             push rbp\n",
      "|           0x100001b41      4889e5         mov rbp, rsp\n",
      "|           0x100001b44      31c0           xor eax, eax\n",
      "|           0x100001b46      662e0f1f8400.  nop word cs:[rax + rax]\n",
      "|           ; CODE XREF from sym.multiply5_simd_float__float__float (0x100001b90)\n",
      "|       .-> 0x100001b50      c5fc100407     vmovups ymm0, ymmword [rdi + rax]\n",
      "|       :   0x100001b55      c5fc59c0       vmulps ymm0, ymm0, ymm0\n",
      "|       :   0x100001b59      c5fc110402     vmovups ymmword [rdx + rax], ymm0\n",
      "|       :   0x100001b5e      c5fc590407     vmulps ymm0, ymm0, ymmword [rdi + rax]\n",
      "|       :   0x100001b63      c5fc110402     vmovups ymmword [rdx + rax], ymm0\n",
      "|       :   0x100001b68      c5fc590406     vmulps ymm0, ymm0, ymmword [rsi + rax]\n",
      "|       :   0x100001b6d      c5fc110402     vmovups ymmword [rdx + rax], ymm0\n",
      "|       :   0x100001b72      c5fc590406     vmulps ymm0, ymm0, ymmword [rsi + rax]\n",
      "|       :   0x100001b77      c5fc110402     vmovups ymmword [rdx + rax], ymm0\n",
      "|       :   0x100001b7c      c5fc590406     vmulps ymm0, ymm0, ymmword [rsi + rax]\n",
      "|       :   0x100001b81      c5fc110402     vmovups ymmword [rdx + rax], ymm0\n",
      "|       :   0x100001b86      4883c020       add rax, 0x20\n",
      "|       :   0x100001b8a      483d00000002   cmp rax, 0x2000000\n",
      "|       `=< 0x100001b90      75be           jne 0x100001b50\n",
      "|           0x100001b92      5d             pop rbp\n",
      "|           0x100001b93      c5f877         vzeroupper\n",
      "\\           0x100001b96      c3             ret\n"
     ]
    }
   ],
   "source": [
    "# 5 multiplication with simd/avx\n",
    "!r2 -Aqc \"e scr.color=0 ; s sym.multiply5_simd_float__float__float ; pdf\" 01_mul/mul"
   ]
  },
  {
   "cell_type": "markdown",
   "metadata": {},
   "source": [
    "## Intel intrinsics guide\n",
    "\n",
    "Intel maintains a website to show the available intrinsics: https://software.intel.com/sites/landingpage/IntrinsicsGuide/ .  Consult and remember it when needed."
   ]
  },
  {
   "cell_type": "markdown",
   "metadata": {},
   "source": [
    "# Exercises\n",
    "\n",
    "1. Replace the single-precision floating-point vector type `__m256` with the double-precision floating-point vector type `__m256d` in the example, and compare the performance with the sinple-precision version."
   ]
  },
  {
   "cell_type": "markdown",
   "metadata": {},
   "source": [
    "# References\n",
    "\n",
    "1. Crunching Numbers with AVX and AVX2 (AVX tutorials): https://www.codeproject.com/Articles/874396/Crunching-Numbers-with-AVX-and-AVX\n",
    "2. Agner Fog (Agner's website): https://www.agner.org\n",
    "\n",
    "   * Instruction table (latency information): https://www.agner.org/optimize/instruction_tables.pdf\n",
    "3. x86 and amd64 instruction reference (unofficial) by Félix Cloutier: https://www.felixcloutier.com/x86/\n",
    "4. Intel Intrinsics Guide: https://software.intel.com/sites/landingpage/IntrinsicsGuide/\n",
    "5. Computer Organization and Assembly Languages by Yung-Yu Chuang, NTU: https://www.csie.ntu.edu.tw/~cyy/courses/assembly/12fall/news/"
   ]
  }
 ],
 "metadata": {
  "kernelspec": {
   "display_name": "Python 3",
   "language": "python",
   "name": "python3"
  },
  "language_info": {
   "codemirror_mode": {
    "name": "ipython",
    "version": 3
   },
   "file_extension": ".py",
   "mimetype": "text/x-python",
   "name": "python",
   "nbconvert_exporter": "python",
   "pygments_lexer": "ipython3",
   "version": "3.7.4+"
  }
 },
 "nbformat": 4,
 "nbformat_minor": 2
}
